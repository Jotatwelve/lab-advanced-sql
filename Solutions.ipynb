{
 "cells": [
  {
   "cell_type": "code",
   "execution_count": 1,
   "metadata": {},
   "outputs": [],
   "source": [
    "import os\n",
    "os.environ[\"GOOGLE_APPLICATION_CREDENTIALS\"]=\"/Users/JCasado/desktop/IRONHACK/ironhack_service_account_big_query.json\""
   ]
  },
  {
   "cell_type": "code",
   "execution_count": 2,
   "metadata": {},
   "outputs": [],
   "source": [
    "from google.cloud import bigquery\n",
    "client = bigquery.Client()"
   ]
  },
  {
   "cell_type": "markdown",
   "metadata": {},
   "source": [
    "#### Step 1: Calculate the royalties of each sales for each author"
   ]
  },
  {
   "cell_type": "code",
   "execution_count": null,
   "metadata": {},
   "outputs": [],
   "source": [
    "royalties_per_sale = '''SELECT \n",
    "\n",
    "    ptitles.title_id AS TITLE_ID,\n",
    "    pauthors.au_lname AS LAST_NAME,\n",
    "    pauthors.au_fname AS FIRST_NAME,\n",
    "    ptitles.price AS PRICE,\n",
    "    ptitles.advance AS ADVANCE,\n",
    "    ptitles.royalty AS ROYALTY,\n",
    "    psales.qty AS QTY,\n",
    "    ptauthor.au_id AS AU_ID\n",
    "    ptitles.title AS TITLE, \n",
    "    ptauthor.royaltyper AS ROYALTYPER\n",
    "    (ptitles.price*(ptitles.royalty/100)*psales.qty*(ptauthor.royalteper/100)) AS ROYALTIES\n",
    "    \n",
    "FROM \n",
    "    `ironhack-data-analytics-265219.publications.titleauthor` AS ptauthor\n",
    "\n",
    "JOIN\n",
    "    publications.authors as pauthors\n",
    "ON\n",
    "    ptauthor.au_id = ptauthors.au_id\n",
    "\n",
    "JOIN    \n",
    "    publications.titles AS ptitles\n",
    "ON\n",
    "    ptauthor.title_id = ptitles.title_id\n",
    "\n",
    "JOIN    \n",
    "    publications.sales AS psales\n",
    "ON   \n",
    "    ptauthor.title_id = psales.title_id\n",
    "\n",
    "GROUP BY\n",
    "    ptitles.title_id,\n",
    "    ptitles.advance,\n",
    "    ptitles.price,\n",
    "    ptitles.royalty,\n",
    "    ptauthor.au_id,\n",
    "    pauthors.au_fname,\n",
    "    pauthors.au_lname,\n",
    "    psales.qty,\n",
    "    ptauthor.royaltyper\n",
    "    \n",
    "ORDER BY\n",
    "    ptitles.titles_id\n",
    "    \n",
    "LIMIT\n",
    "    5\n",
    "    \n",
    "'''\n"
   ]
  },
  {
   "cell_type": "code",
   "execution_count": null,
   "metadata": {},
   "outputs": [],
   "source": [
    "query_job = client.query(query=royalties_per_sale)\n",
    "query_job.to_dataframe()"
   ]
  },
  {
   "cell_type": "markdown",
   "metadata": {},
   "source": [
    "#### Step 2: Aggregate the total royalties for each title for each author"
   ]
  },
  {
   "cell_type": "code",
   "execution_count": null,
   "metadata": {},
   "outputs": [],
   "source": [
    "royalties_per_title = '''\n",
    "\n",
    "SELECT\n",
    "    royalties_per_sale.title_id,\n",
    "    royalties_per_sale.au_fname,\n",
    "    royalties_per_sale.au_lname,\n",
    "    royalties_per_sale.au_id,\n",
    "    royalties_per_sale.advance,\n",
    "    SUM(royalties) AS ROYALTIES\n",
    "    \n",
    "FROM\n",
    "    (SELECT\n",
    "    ptitles.title_id AS TITLE_ID,\n",
    "    pauthors.au_lname AS LAST_NAME,\n",
    "    pauthors.au_fname AS FIRST_NAME,\n",
    "    ptitles.price AS PRICE,\n",
    "    ptitles.advance AS ADVANCE,\n",
    "    ptitles.royalty AS ROYALTY,\n",
    "    psales.qty AS QTY,\n",
    "    ptauthor.au_id AS AU_ID\n",
    "    ptitles.title AS TITLE, \n",
    "    ptauthor.royaltyper AS ROYALTYPER\n",
    "    (ptitles.price*(ptitles.royalty/100)*psales.qty*(ptauthor.royalteper/100)) AS ROYALTIES\n",
    "    \n",
    "    )\n",
    "\n",
    "    FROM \n",
    "        `ironhack-data-analytics-265219.publications.titleauthor` as ptauthor\n",
    "    \n",
    "    JOIN\n",
    "        publications.authors as pauthors\n",
    "    ON\n",
    "        ptauthor.au_id = pauthors.au_id\n",
    "    \n",
    "    JOIN\n",
    "        publications.titles as ptitles\n",
    "    ON\n",
    "        ptauthor.title_id = ptitles.title_id\n",
    "        \n",
    "    JOIN\n",
    "        publications.sales as psales\n",
    "    ON\n",
    "        ptauthor.title_id = psales.title_id\n",
    "    \n",
    "    GROUP BY\n",
    "        ptitles.title_id,\n",
    "        ptitles.price,\n",
    "        ptitles.advance,\n",
    "        ptitles.royalty,\n",
    "        psales.qty,\n",
    "        ptauthor.au_id,\n",
    "        pauthors.au_fname,\n",
    "        pauthors.au_lname,\n",
    "        ptauthor.royaltyper\n",
    "    \n",
    "    ORDER BY\n",
    "        ptitles.title_id AS royalties_per_sale\n",
    "\n",
    "GROUP BY\n",
    "    royalties_per_sale.title_id,\n",
    "    royalties_per_sale.au_fname,\n",
    "    royalties_per_sale.au_lname,\n",
    "    royalties_per_sale.au_id,\n",
    "    royalties_per_sale.advance\n",
    "    \n",
    "LIMIT\n",
    "    5\n",
    "'''\n"
   ]
  },
  {
   "cell_type": "code",
   "execution_count": null,
   "metadata": {},
   "outputs": [],
   "source": [
    "query_job = client.query(query=royalties_per_title)\n",
    "query_job.to_dataframe()"
   ]
  },
  {
   "cell_type": "markdown",
   "metadata": {},
   "source": [
    "#### Step 3: Calculate the total profits of each author"
   ]
  },
  {
   "cell_type": "code",
   "execution_count": null,
   "metadata": {},
   "outputs": [],
   "source": [
    "#no time! i will do it next days"
   ]
  },
  {
   "cell_type": "code",
   "execution_count": null,
   "metadata": {},
   "outputs": [],
   "source": []
  },
  {
   "cell_type": "code",
   "execution_count": null,
   "metadata": {},
   "outputs": [],
   "source": []
  },
  {
   "cell_type": "markdown",
   "metadata": {},
   "source": [
    "#### Challenge 2"
   ]
  },
  {
   "cell_type": "code",
   "execution_count": null,
   "metadata": {},
   "outputs": [],
   "source": [
    "most_profiting_authors = '''\n",
    "\n",
    "CREATE TABLE \n",
    "    `ironhack-data-analytics-265219.publications.most_profiting_authors` (\n",
    "    \n",
    "    au_id STRING,\n",
    "    au_fname STRING,\n",
    "    au_lname STRING,\n",
    "    total_profits NUMERIC)"
   ]
  },
  {
   "cell_type": "code",
   "execution_count": null,
   "metadata": {},
   "outputs": [],
   "source": [
    "sql= '''\n",
    "\n",
    "INSERT INTO `ironhack-data-analytics-265219.publications.most_profiting_authors`\n",
    "\n",
    "VALUES\n",
    "('899-46-2035', 'Anne', 'Ringer', 39178.132),\n",
    "('722-51-5454', 'Michel', 'DeFrance', 30021.528),\n",
    "('213-46-8915', 'Marjorie','Green', 20162.110)\n",
    "'''"
   ]
  }
 ],
 "metadata": {
  "kernelspec": {
   "display_name": "Python 3",
   "language": "python",
   "name": "python3"
  },
  "language_info": {
   "codemirror_mode": {
    "name": "ipython",
    "version": 3
   },
   "file_extension": ".py",
   "mimetype": "text/x-python",
   "name": "python",
   "nbconvert_exporter": "python",
   "pygments_lexer": "ipython3",
   "version": "3.7.4"
  }
 },
 "nbformat": 4,
 "nbformat_minor": 2
}
